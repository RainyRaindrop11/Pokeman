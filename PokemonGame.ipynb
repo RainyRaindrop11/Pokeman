{
 "cells": [
  {
   "cell_type": "code",
   "execution_count": 4,
   "metadata": {
    "collapsed": true
   },
   "outputs": [],
   "source": [
    "import os\n",
    "import pandas as pd"
   ]
  },
  {
   "cell_type": "code",
   "execution_count": 5,
   "metadata": {
    "collapsed": false
   },
   "outputs": [],
   "source": [
    "class Pokemon:\n",
    "    \"\"\"Class variables\"\"\"\n",
    "    \n",
    "    # (1) Make this filepath relative\n",
    "    filepath = os.getcwd()+\"/Pokemon.csv\"\n",
    "    pokemon_df = pd.read_csv(filepath)\n",
    "    \n",
    "    # (5) Make a dataset for evolution chain\n",
    "    # evolution df = ...\n",
    "\n",
    "    def __init__(self, name):\n",
    "        \"\"\"Constructor.\"\"\"\n",
    "        \n",
    "        # Name of the Pokemon.\n",
    "        self.name = name \n",
    "        \n",
    "        df = Pokemon.pokemon_df\n",
    "        \n",
    "        # Find base HP from dataset \n",
    "        hit_pts = df[df[\"Name\"].str.lower()==self.name.lower()][\"HP\"].values[0]\n",
    "        self.hp = hit_pts\n",
    "        \n",
    "        # Find base Type1 from dataset \n",
    "        typ1 = df[df[\"Name\"].str.lower()==self.name.lower()][\"Type 1\"].values[0]\n",
    "        self.type_1 = typ1\n",
    "\n",
    "        # Find base Type2 from dataset \n",
    "        typ2 = df[df[\"Name\"].str.lower()==self.name.lower()][\"Type 2\"].values[0]\n",
    "        self.type_2 = [\"None\",typ2][typ2=='nan']\n",
    "        \n",
    "        # Find 'Attack' from dataset \n",
    "        # Find 'Special Attack' from dataset \n",
    "         \n",
    "    # (3) Methods to increase/decrease HP       \n",
    "    def increase_hp(self, amount):\n",
    "        \n",
    "    def decrease_hp(self, amount):\n",
    "        # Handle less than 0 case.\n",
    "        \n",
    "    def scream_name(self):\n",
    "        # make a separate directory with some picture of pokemon so they appear when they attack\n",
    "        \n",
    "    # (4) Complete this \n",
    "    def attack(self,target):\n",
    "        "
   ]
  },
  {
   "cell_type": "code",
   "execution_count": null,
   "metadata": {
    "collapsed": true
   },
   "outputs": [],
   "source": []
  }
 ],
 "metadata": {
  "kernelspec": {
   "display_name": "Python 2",
   "language": "python",
   "name": "python2"
  },
  "language_info": {
   "codemirror_mode": {
    "name": "ipython",
    "version": 2
   },
   "file_extension": ".py",
   "mimetype": "text/x-python",
   "name": "python",
   "nbconvert_exporter": "python",
   "pygments_lexer": "ipython2",
   "version": "2.7.15"
  }
 },
 "nbformat": 4,
 "nbformat_minor": 2
}
