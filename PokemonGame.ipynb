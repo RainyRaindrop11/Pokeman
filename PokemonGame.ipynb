{
 "cells": [
  {
   "cell_type": "code",
   "execution_count": 3,
   "metadata": {},
   "outputs": [],
   "source": [
    "import os\n",
    "import pandas as pd"
   ]
  },
  {
   "cell_type": "code",
   "execution_count": 4,
   "metadata": {},
   "outputs": [],
   "source": [
    "class Pokemon:\n",
    "    \"\"\"Class variables\"\"\"\n",
    "    \n",
    "    # (1) Make this filepath relative\n",
    "    filepath = os.getcwd()+\"/Pokemon.csv\"\n",
    "    pokemon_df = pd.read_csv(filepath)\n",
    "    \n",
    "    # (5) Make a dataset for evolution chain\n",
    "    # evolution df = ...\n",
    "\n",
    "    def __init__(self, name):\n",
    "        \"\"\"Constructor.\"\"\"\n",
    "        \n",
    "        # Name of the Pokemon.\n",
    "        self.name = name \n",
    "        \n",
    "        df = Pokemon.pokemon_df\n",
    "        \n",
    "        #level and exp\n",
    "        self.level = 1\n",
    "        self.exp = 0\n",
    "        \n",
    "        # Find base HP from dataset \n",
    "        Number = df[df[\"Name\"].str.lower()==self.name.lower()][\"#\"].values[0]\n",
    "        self.Number = Number\n",
    "        hit_pts = df[df[\"Name\"].str.lower()==self.name.lower()][\"HP\"].values[0]\n",
    "        self.hp = hit_pts * 3\n",
    "        self.most_hp = hit_pts * 3\n",
    "        #^ look up and fix this\n",
    "        #^ look up and fix this\n",
    "        #^ look up and fix this\n",
    "        #^ look up and fix this\n",
    "        #^ look up and fix this\n",
    "        #^ look up and fix this\n",
    "        #^ look up and fix this\n",
    "        #^ look up and fix this\n",
    "        #^ look up and fix this\n",
    "        # Find base Type1 from dataset \n",
    "        typ1 = df[df[\"Name\"].str.lower()==self.name.lower()][\"Type 1\"].values[0]\n",
    "        self.type_1 = typ1\n",
    "\n",
    "        # Find base Type2 from dataset \n",
    "        typ2 = df[df[\"Name\"].str.lower()==self.name.lower()][\"Type 2\"].values[0]\n",
    "        self.type_2 = [\"None\",typ2][typ2=='nan']\n",
    "        \n",
    "        # Find 'Attack' from dataset \n",
    "        attack = df[df[\"Name\"].str.lower()==self.name.lower()][\"Attack\"].values[0]\n",
    "        self.attack_val = attack\n",
    "        # Find 'Special Attack' from dataset \n",
    "        special_attack =  df[df[\"Name\"].str.lower()==self.name.lower()][\"Sp. Atk\"].values[0]\n",
    "        self.special_attack_val = special_attack    \n",
    "    # (3) Methods to increase/decrease HP \n",
    "        self.sp_num = 3\n",
    "        self.at_num = 15\n",
    "    def increase_hp(self, amount):\n",
    "        self.hp += int(amount)\n",
    "        if self.hp > self.most_hp:\n",
    "            self.hp = self.most_hp\n",
    "        print(str(self.hp))\n",
    "        \n",
    "    def decrease_hp(self, target, amount):\n",
    "        # Handle less than 0 case.\n",
    "        target.hp -= amount\n",
    "        print(str(target.hp))\n",
    "        if target.hp <= 0:\n",
    "            print(str(target.name) + \" has fainted.\")\n",
    "            \n",
    "        \n",
    "    #def scream_name(self):\n",
    "        # make a separate directory with some picture of pokemon so they appear when they attack\n",
    "        \n",
    "    # (4) Complete this \n",
    "    def attack(self,target):\n",
    "        if target.hp <= 0:\n",
    "            print(\"Your target is already dead. You cannot attack.\")\n",
    "        if self.hp <= 0:\n",
    "            print(\"Your Pokemon is already dead. You cannot attack.\")\n",
    "        if self.at_num == 0:\n",
    "            print(\"Your pokemon has used this attack too many times\")\n",
    "        if self.hp > 0 and target.hp > 0 and self.at_num > 0:\n",
    "            print (str(self.name) + \"!\")\n",
    "            print(str(self.name) + \" Attacked \" + str(target.name))\n",
    "            self.decrease_hp(target,self.attack_val)\n",
    "            self.at_num -= 1\n",
    "        \n",
    "    def special_attack(self,target):\n",
    "        if target.hp <= 0:\n",
    "            print(\"Your target is already dead. You cannot attack.\")\n",
    "        if self.hp <= 0:\n",
    "            print(\"Your Pokemon is already dead. You cannot attack.\")\n",
    "        if self.sp_num == 0:\n",
    "            print(\"Your pokemon has used this attack too many times\")\n",
    "        if self.hp > 0 and target.hp > 0 and self.sp_num > 0:\n",
    "            print (str(self.name) + \"!!!\")\n",
    "            print(str(self.name) + \" Special Attacked \" + str(target.name))\n",
    "            self.decrease_hp(target,self.special_attack_val)\n",
    "            self.sp_num -= 1\n",
    "        \n",
    "        \n",
    "            \n",
    "    def heal(self):\n",
    "        self.hp = self.most_hp\n",
    "        print(str(self.hp))\n",
    "        \n",
    "    def level_up(self):\n",
    "        if self.exp >= 100:\n",
    "            self.exp -= 100\n",
    "            self.level += 1\n",
    "            self.attack_val += 10\n",
    "            self.special_attack_val += 10\n",
    "            self.most_hp += 10\n",
    "        \n",
    "        "
   ]
  },
  {
   "cell_type": "code",
   "execution_count": 5,
   "metadata": {},
   "outputs": [],
   "source": [
    "class Trainer:\n",
    "    def __init__(self,Trainer_Name,P1,P2,P3,P4,P5,P6):\n",
    "        self.Trainer_Name = Trainer_Name\n",
    "        self.P1 = P1\n",
    "        self.P2 = P2\n",
    "        self.P3 = P3\n",
    "        self.P4 = P4\n",
    "        self.P5 = P5\n",
    "        self.P6 = P6\n",
    "        self.Available_Pokemon = [P1,P2,P3,P4,P5,P6]"
   ]
  },
  {
   "cell_type": "code",
   "execution_count": 6,
   "metadata": {},
   "outputs": [],
   "source": [
    "# class Battle:\n",
    "#     def __init__(self,opponent1,opponent2):\n",
    "#         #constructer\n",
    "#         while opponent1.hp > 0 and opponent2.hp > 0:\n",
    "#             opponent1_atype = input(str(opponent1.name) + \" choose your attack.(R or S or H)\")\n",
    "\n",
    "#             while opponent1_atype.lower() != \"r\" and opponent1_atype.lower() != \"s\" and opponent1_atype.lower() != \"h\":\n",
    "#                 print(\"invalid input: \" + str(opponent1_atype))\n",
    "#                 opponent1_atype = input(str(opponent1.name) + \" choose your attack.(R or S or H)\")\n",
    "#                 #h not work pls fix\n",
    "\n",
    "#             if opponent1_atype.lower() == \"r\":\n",
    "#                 opponent1.attack(opponent2)\n",
    "#             if opponent1_atype.lower() == \"s\":\n",
    "#                 opponent1.special_attack(opponent2)\n",
    "#             if opponent1_atype.lower() == \"h\":\n",
    "#                 opponent1.increase_hp(opponent1.most_hp * 0.4)\n",
    "#                 print(str(opponent1.name) + \" healed itself.\")\n",
    "\n",
    "#             opponent2_atype = input(str(opponent2.name) + \" choose your attack.(R or S or H)\")\n",
    "\n",
    "#             while opponent2_atype.lower() != \"r\" and opponent2_atype.lower() != \"s\" and opponent2_atype.lower() != \"h\":\n",
    "#                 print(\"invalid input: \" + str(opponent2_atype))\n",
    "#                 opponent2_atype = input(str(opponent2.name) + \" choose your attack.(R or S or H)\")\n",
    "\n",
    "#             if opponent2_atype.lower() == \"r\":\n",
    "#                 opponent2.attack(opponent1)\n",
    "#             if opponent2_atype.lower() == \"s\":\n",
    "#                 opponent2.special_attack(opponent1)\n",
    "#             if opponent2_atype.lower() == \"h\":\n",
    "#                 opponent2.increase_hp(opponent2.most_hp * 0.4)\n",
    "#                 print(str(opponent2.name) + \" healed itself.\")\n",
    "        \n",
    "#         opponent1.level_up\n",
    "#         opponent2.level_up\n",
    "    #def Pre_Attack_Update(self):\n",
    "    \n",
    "    #def Post_Attack_Update(self):\n",
    "            \n",
    "        "
   ]
  },
  {
   "cell_type": "code",
   "execution_count": 7,
   "metadata": {},
   "outputs": [],
   "source": [
    "class Battle:\n",
    "    def __init__(self,Opponent1,Opponent2):\n",
    "        #constructer\n",
    "        Opponent1_Pokemon = input(str(Opponent1.Trainer_Name) + \" Choose Your Pokemon!(1;2;3;4;5;6)\" + \\\n",
    "                                  str(Opponent1.P1.name) + \", \" + str(Opponent1.P2.name) + \" ,\" + str(Opponent1.P3.name) + \\\n",
    "                                  \", \" + str(Opponent1.P4.name) + \", \" + str(Opponent1.P5.name) + \", \" +\\\n",
    "                                   str(Opponent1.P6.name) + \".\")\n",
    "        while int(Opponent1_Pokemon) > 6:\n",
    "            print(\"Invalid Pokemon:\" + str(Opponent1_Pokemon))\n",
    "            Opponent1_Pokemon = input(str(Opponent1.Trainer_Name) + \" Choose Your Pokemon!(1;2;3;4;5;6)\" + \\\n",
    "                                  str(Opponent1.P1.name) + \", \" + str(Opponent1.P2.name) + \" ,\" + str(Opponent1.P3.name) + \\\n",
    "                                  \", \" + str(Opponent1.P4.name) + \", \" + str(Opponent1.P5.name) + \", \" +\\\n",
    "                                   str(Opponent1.P6.name) + \".\")\n",
    "            \n",
    "        Opponent1_Select = Opponent1.Available_Pokemon[int(Opponent1_Pokemon) - 1]\n",
    "        print(\"You Have Picked \" + str(Opponent1_Select.name) + \".\")\n",
    "        Confirm = input(\"Are you sure?\")\n",
    "        \n",
    "        while Confirm.title() != \"Yes\":\n",
    "            while int(Opponent1_Pokemon) > 6:\n",
    "                print(\"Invalid Pokemon:\" + str(Opponent1_Pokemon))\n",
    "                Opponent1_Pokemon = input(str(Opponent1.Trainer_Name) + \" Choose Your Pokemon!(1;2;3;4;5;6)\" + \\\n",
    "                                      str(Opponent1.P1.name) + \", \" + str(Opponent1.P2.name) + \" ,\" + str(Opponent1.P3.name) + \\\n",
    "                                      \", \" + str(Opponent1.P4.name) + \", \" + str(Opponent1.P5.name) + \", \" +\\\n",
    "                                       str(Opponent1.P6.name) + \".\")\n",
    "            \n",
    "        Opponent1_Select = Opponent1.Available_Pokemon[int(Opponent1_Pokemon) - 1]\n",
    "        print(\"You Have Picked \" + str(Opponent1_Select.name) + \".\")\n",
    "        Confirm = input(\"Are you sure?\")\n",
    "            \n",
    "        # Opponent2 start   \n",
    "#         Opponent2_Pokemon = input(str(Opponent2.Trainer_Name) + \" Choose Your Pokemon!(1;2;3;4;5;6)\" + \\\n",
    "#                                   str(Opponent1.P2.name) + \", \" + str(Opponent2.P2.name) + \" ,\" + str(Opponent2.P3.name) + \\\n",
    "#                                   \", \" + str(Opponent2.P4.name) + \", \" + str(Opponent2.P5.name) + \", \" +\\\n",
    "#                                    str(Opponent2.P6.name) + \".\")\n",
    "#         while int(Opponent2_Pokemon) > 6:\n",
    "#             print(\"Invalid Pokemon:\" + str(Opponent2_Pokemon))\n",
    "#             Opponent2_Pokemon = input(str(Opponent2.Trainer_Name) + \" Choose Your Pokemon!(1;2;3;4;5;6)\" + \\\n",
    "#                                   str(Opponent1.P2.name) + \", \" + str(Opponent2.P2.name) + \" ,\" + str(Opponent2.P3.name) + \\\n",
    "#                                   \", \" + str(Opponent2.P4.name) + \", \" + str(Opponent2.P5.name) + \", \" +\\\n",
    "#                                    str(Opponent2.P6.name) + \".\")\n",
    "            \n",
    "#         Opponent1_Select = Opponent1.Available_Pokemon[int(Opponent1_Pokemon) - 1]\n",
    "#         print(\"You Have Picked \" + str(Opponent1_Select.name) + \".\")\n",
    "#         Confirm = input(\"Are you sure?\")\n",
    "        \n",
    "#         while Confirm.title() != \"Yes\":\n",
    "#              Opponent2_Pokemon = input(str(Opponent2.Trainer_Name) + \" Choose Your Pokemon!(1;2;3;4;5;6)\" + \\\n",
    "#                                   str(Opponent1.P2.name) + \", \" + str(Opponent2.P2.name) + \" ,\" + str(Opponent2.P3.name) + \\\n",
    "#                                   \", \" + str(Opponent2.P4.name) + \", \" + str(Opponent2.P5.name) + \", \" +\\\n",
    "#                                    str(Opponent2.P6.name) + \".\")\n",
    "#         while int(Opponent2_Pokemon) > 6:\n",
    "#             print(\"Invalid Pokemon:\" + str(Opponent2_Pokemon))\n",
    "#             Opponent2_Pokemon = input(str(Opponent2.Trainer_Name) + \" Choose Your Pokemon!(1;2;3;4;5;6)\" + \\\n",
    "#                                   str(Opponent1.P2.name) + \", \" + str(Opponent2.P2.name) + \" ,\" + str(Opponent2.P3.name) + \\\n",
    "#                                   \", \" + str(Opponent2.P4.name) + \", \" + str(Opponent2.P5.name) + \", \" +\\\n",
    "#                                    str(Opponent2.P6.name) + \".\")\n",
    "            \n",
    "#         Opponent2_Select = Opponent2.Available_Pokemon[int(Opponent2_Pokemon) - 1]\n",
    "#         print(\"You Have Picked \" + str(Opponent2_Select.name) + \".\")\n",
    "#         Confirm = input(\"Are you sure?\")\n",
    "            \n",
    "\n",
    "#         while opponent1.hp > 0 and opponent2.hp > 0:\n",
    "#             opponent1_atype = input(str(opponent1.name) + \" choose your attack.(R or S or H)\")\n",
    "\n",
    "#             while opponent1_atype.lower() != \"r\" and opponent1_atype.lower() != \"s\" and opponent1_atype.lower() != \"h\":\n",
    "#                 print(\"invalid input: \" + str(opponent1_atype))\n",
    "#                 opponent1_atype = input(str(opponent1.name) + \" choose your attack.(R or S or H)\")\n",
    "#                 #h not work pls fix\n",
    "\n",
    "#             if opponent1_atype.lower() == \"r\":\n",
    "#                 opponent1.attack(opponent2)\n",
    "#             if opponent1_atype.lower() == \"s\":\n",
    "#                 opponent1.special_attack(opponent2)\n",
    "#             if opponent1_atype.lower() == \"h\":\n",
    "#                 opponent1.increase_hp(opponent1.most_hp * 0.4)\n",
    "#                 print(str(opponent1.name) + \" healed itself.\")\n",
    "\n",
    "#             opponent2_atype = input(str(opponent2.name) + \" choose your attack.(R or S or H)\")\n",
    "\n",
    "#             while opponent2_atype.lower() != \"r\" and opponent2_atype.lower() != \"s\" and opponent2_atype.lower() != \"h\":\n",
    "#                 print(\"invalid input: \" + str(opponent2_atype))\n",
    "#                 opponent2_atype = input(str(opponent2.name) + \" choose your attack.(R or S or H)\")\n",
    "\n",
    "#             if opponent2_atype.lower() == \"r\":\n",
    "#                 opponent2.attack(opponent1)\n",
    "#             if opponent2_atype.lower() == \"s\":\n",
    "#                 opponent2.special_attack(opponent1)\n",
    "#             if opponent2_atype.lower() == \"h\":\n",
    "#                 opponent2.increase_hp(opponent2.most_hp * 0.4)\n",
    "#                 print(str(opponent2.name) + \" healed itself.\")\n",
    "        \n",
    "#         opponent1.level_up\n",
    "#         opponent2.level_up\n",
    "    #def Pre_Attack_Update(self):\n",
    "    \n",
    "    #def Post_Attack_Update(self):\n",
    "            "
   ]
  },
  {
   "cell_type": "code",
   "execution_count": 8,
   "metadata": {},
   "outputs": [],
   "source": [
    "Greninja = Pokemon(\"Greninja\")"
   ]
  },
  {
   "cell_type": "code",
   "execution_count": 9,
   "metadata": {},
   "outputs": [],
   "source": [
    "Bulbasaur = Pokemon(\"Bulbasaur\")"
   ]
  },
  {
   "cell_type": "code",
   "execution_count": 10,
   "metadata": {},
   "outputs": [],
   "source": [
    "Squirtle = Pokemon(\"Squirtle\")"
   ]
  },
  {
   "cell_type": "code",
   "execution_count": 11,
   "metadata": {},
   "outputs": [],
   "source": [
    "Mr_Mime = Pokemon(\"Mr. Mime\")"
   ]
  },
  {
   "cell_type": "code",
   "execution_count": 12,
   "metadata": {},
   "outputs": [],
   "source": [
    "Flareon = Pokemon(\"Flareon\")"
   ]
  },
  {
   "cell_type": "code",
   "execution_count": 13,
   "metadata": {},
   "outputs": [],
   "source": [
    "Vaporeon = Pokemon(\"Vaporeon\")"
   ]
  },
  {
   "cell_type": "code",
   "execution_count": 14,
   "metadata": {},
   "outputs": [],
   "source": [
    "Bo = Trainer(\"Bo\",Greninja,Bulbasaur,Squirtle,Mr_Mime,Flareon,Vaporeon)"
   ]
  },
  {
   "cell_type": "code",
   "execution_count": 15,
   "metadata": {},
   "outputs": [],
   "source": [
    "Magikarp = Pokemon(\"Magikarp\")"
   ]
  },
  {
   "cell_type": "code",
   "execution_count": 16,
   "metadata": {},
   "outputs": [],
   "source": [
    "Weedle = Pokemon(\"Weedle\")"
   ]
  },
  {
   "cell_type": "code",
   "execution_count": 17,
   "metadata": {},
   "outputs": [],
   "source": [
    "Caterpie = Pokemon(\"Caterpie\")"
   ]
  },
  {
   "cell_type": "code",
   "execution_count": 18,
   "metadata": {},
   "outputs": [],
   "source": [
    "Pidgey = Pokemon(\"Pidgey\")"
   ]
  },
  {
   "cell_type": "code",
   "execution_count": 19,
   "metadata": {},
   "outputs": [],
   "source": [
    "Jigglypuff = Pokemon(\"Jigglypuff\")"
   ]
  },
  {
   "cell_type": "code",
   "execution_count": 20,
   "metadata": {},
   "outputs": [],
   "source": [
    "Typhlosion = Pokemon(\"Typhlosion\")"
   ]
  },
  {
   "cell_type": "code",
   "execution_count": 21,
   "metadata": {},
   "outputs": [],
   "source": [
    "Eric = Trainer(\"Eric\",Magikarp,Weedle,Caterpie,Pidgey,Jigglypuff,Typhlosion)"
   ]
  },
  {
   "cell_type": "code",
   "execution_count": null,
   "metadata": {},
   "outputs": [
    {
     "name": "stdout",
     "output_type": "stream",
     "text": [
      "Bo Choose Your Pokemon!(1;2;3;4;5;6)Greninja, Bulbasaur ,Squirtle, Mr. Mime, Flareon, Vaporeon.2\n",
      "You Have Picked Bulbasaur.\n",
      "Are you sure?Yes\n",
      "You Have Picked Bulbasaur.\n",
      "Are you sure?Y\n",
      "Eric Choose Your Pokemon!(1;2;3;4;5;6)Bulbasaur, Weedle ,Caterpie, Pidgey, Jigglypuff, Typhlosion.5\n",
      "You Have Picked Bulbasaur.\n",
      "Are you sure?7\n",
      "Eric Choose Your Pokemon!(1;2;3;4;5;6)Bulbasaur, Weedle ,Caterpie, Pidgey, Jigglypuff, Typhlosion.8\n"
     ]
    }
   ],
   "source": [
    "Battle(Bo,Eric)"
   ]
  },
  {
   "cell_type": "code",
   "execution_count": null,
   "metadata": {},
   "outputs": [],
   "source": [
    "Greninja.Number"
   ]
  },
  {
   "cell_type": "markdown",
   "metadata": {},
   "source": [
    "### "
   ]
  }
 ],
 "metadata": {
  "kernelspec": {
   "display_name": "Python 3",
   "language": "python",
   "name": "python3"
  },
  "language_info": {
   "codemirror_mode": {
    "name": "ipython",
    "version": 3
   },
   "file_extension": ".py",
   "mimetype": "text/x-python",
   "name": "python",
   "nbconvert_exporter": "python",
   "pygments_lexer": "ipython3",
   "version": "3.7.1"
  }
 },
 "nbformat": 4,
 "nbformat_minor": 2
}
