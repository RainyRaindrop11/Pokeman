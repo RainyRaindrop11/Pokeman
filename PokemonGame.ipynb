{
 "cells": [
  {
   "cell_type": "code",
   "execution_count": 1,
   "metadata": {},
   "outputs": [],
   "source": [
    "import os\n",
    "import pandas as pd"
   ]
  },
  {
   "cell_type": "code",
   "execution_count": 2,
   "metadata": {},
   "outputs": [],
   "source": [
    "class Pokemon:\n",
    "    \"\"\"Class variables\"\"\"\n",
    "    \n",
    "    # (1) Make this filepath relative\n",
    "    filepath = os.getcwd()+\"/Pokemon.csv\"\n",
    "    pokemon_df = pd.read_csv(filepath)\n",
    "    \n",
    "    # (5) Make a dataset for evolution chain\n",
    "    # evolution df = ...\n",
    "\n",
    "    def __init__(self, name):\n",
    "        \"\"\"Constructor.\"\"\"\n",
    "        \n",
    "        # Name of the Pokemon.\n",
    "        self.name = name \n",
    "        \n",
    "        df = Pokemon.pokemon_df\n",
    "        \n",
    "        #level and exp\n",
    "        self.level = 1\n",
    "        self.exp = 0\n",
    "        \n",
    "        # Find base HP from dataset \n",
    "        hit_pts = df[df[\"Name\"].str.lower()==self.name.lower()][\"HP\"].values[0]\n",
    "        self.hp = hit_pts * 3\n",
    "        self.most_hp = hit_pts * 3\n",
    "        #^ look up and fix this\n",
    "        #^ look up and fix this\n",
    "        #^ look up and fix this\n",
    "        #^ look up and fix this\n",
    "        #^ look up and fix this\n",
    "        #^ look up and fix this\n",
    "        #^ look up and fix this\n",
    "        #^ look up and fix this\n",
    "        #^ look up and fix this\n",
    "        # Find base Type1 from dataset \n",
    "        typ1 = df[df[\"Name\"].str.lower()==self.name.lower()][\"Type 1\"].values[0]\n",
    "        self.type_1 = typ1\n",
    "\n",
    "        # Find base Type2 from dataset \n",
    "        typ2 = df[df[\"Name\"].str.lower()==self.name.lower()][\"Type 2\"].values[0]\n",
    "        self.type_2 = [\"None\",typ2][typ2=='nan']\n",
    "        \n",
    "        # Find 'Attack' from dataset \n",
    "        attack = df[df[\"Name\"].str.lower()==self.name.lower()][\"Attack\"].values[0]\n",
    "        self.attack_val = attack\n",
    "        # Find 'Special Attack' from dataset \n",
    "        special_attack =  df[df[\"Name\"].str.lower()==self.name.lower()][\"Sp. Atk\"].values[0]\n",
    "        self.special_attack_val = special_attack    \n",
    "    # (3) Methods to increase/decrease HP \n",
    "        self.max_hp = self.hp\n",
    "    def increase_hp(self, amount):\n",
    "        self.hp += int(amount)\n",
    "        if self.hp > self.most_hp:\n",
    "            self.hp = self.most_hp\n",
    "        \n",
    "    def decrease_hp(self, target, amount):\n",
    "        # Handle less than 0 case.\n",
    "        target.hp -= amount\n",
    "        print(str(self.hp))\n",
    "        if target.hp <= 0:\n",
    "            print(str(target.name) + \" has fainted.\")\n",
    "            \n",
    "        \n",
    "    #def scream_name(self):\n",
    "        # make a separate directory with some picture of pokemon so they appear when they attack\n",
    "        \n",
    "    # (4) Complete this \n",
    "    def attack(self,target):\n",
    "        if target.hp <= 0:\n",
    "                print(\"Your target is already dead. You cannot attack.\")\n",
    "        if self.hp <= 0:\n",
    "                print(\"Your Pokemon is already dead. You cannot attack.\")\n",
    "        if self.hp > 0 and target.hp > 0:\n",
    "            print (str(self.name) + \"!\")\n",
    "            self.decrease_hp(target,self.attack_val)\n",
    "        \n",
    "    def special_attack(self,target):\n",
    "        if target.hp <= 0:\n",
    "                print(\"Your target is already dead. You cannot attack.\")\n",
    "        if self.hp <= 0:\n",
    "                print(\"Your Pokemon is already dead. You cannot attack.\")\n",
    "        if self.hp > 0 and target.hp > 0:\n",
    "            print (str(self.name) + \"!!!\")\n",
    "            self.decrease_hp(target,self.special_attack_val)\n",
    "            \n",
    "    def heal(self):\n",
    "        self.hp = self.max_hp\n",
    "        print(str(self.hp))\n",
    "        "
   ]
  },
  {
   "cell_type": "code",
   "execution_count": 3,
   "metadata": {},
   "outputs": [],
   "source": [
    "class Battle:\n",
    "    def __init__(self,opponent1,opponent2):\n",
    "        #constructer\n",
    "        while opponent1.hp > 0 and opponent2.hp > 0:\n",
    "            opponent1_atype = input(str(opponent1.name) + \" choose your attack.(R or S or H)\")\n",
    "\n",
    "            while opponent1_atype.lower() != \"r\" and opponent1_atype.lower() != \"s\" and opponent1_atype.lower != \"h\":\n",
    "                print(\"invalid input: \" + str(opponent1_atype))\n",
    "                opponent1_atype = input(str(opponent1.name) + \" choose your attack.(R or S or H)\")\n",
    "                #h not work pls fix\n",
    "\n",
    "            if opponent1_atype.lower() == \"r\":\n",
    "                opponent1.attack(opponent2)\n",
    "            if opponent1_atype.lower() == \"s\":\n",
    "                opponent1.special_attack(opponent2)\n",
    "\n",
    "            opponent2_atype = input(str(opponent2.name) + \" choose your attack.(R or S or H)\")\n",
    "\n",
    "            while opponent2_atype.lower() != \"r\" and opponent2_atype.lower() != \"s\" and opponent2_atype.lower != \"h\":\n",
    "                print(\"invalid input: \" + str(opponent2_atype))\n",
    "                opponent2_atype = input(str(opponent2.name) + \" choose your attack.(R or S or H)\")\n",
    "\n",
    "            if opponent2_atype.lower() == \"r\":\n",
    "                opponent2.attack(opponent1)\n",
    "            if opponent2_atype.lower() == \"s\":\n",
    "                opponent2.special_attack(opponent1)\n",
    "            if opponent2_atype.lower() == \"h\":\n",
    "                opponent2.increase_hp(most_hp * 0.4)\n",
    "    def After_Battle_Update(self):\n",
    "        if self.exp >= 100:\n",
    "            self.exp -= 100\n",
    "            self.level += 1\n",
    "            self.attack_val += 10\n",
    "            self.special_attack_val += 10\n",
    "            self.max_hp += 10\n",
    "    #def Pre_Attack_Update(self):\n",
    "    \n",
    "    #def Post_Attack_Update(self):\n",
    "            \n",
    "        "
   ]
  },
  {
   "cell_type": "code",
   "execution_count": 4,
   "metadata": {},
   "outputs": [],
   "source": [
    "Greninja = Pokemon(\"Greninja\")"
   ]
  },
  {
   "cell_type": "code",
   "execution_count": null,
   "metadata": {},
   "outputs": [
    {
     "data": {
      "text/plain": [
       "95"
      ]
     },
     "execution_count": 5,
     "metadata": {},
     "output_type": "execute_result"
    }
   ],
   "source": [
    "Greninja.attack_val"
   ]
  },
  {
   "cell_type": "code",
   "execution_count": null,
   "metadata": {},
   "outputs": [],
   "source": [
    "Mr_Mime = Pokemon(\"Mr. Mime\")"
   ]
  },
  {
   "cell_type": "code",
   "execution_count": null,
   "metadata": {},
   "outputs": [
    {
     "data": {
      "text/plain": [
       "45"
      ]
     },
     "execution_count": 7,
     "metadata": {},
     "output_type": "execute_result"
    }
   ],
   "source": [
    "Mr_Mime.attack_val"
   ]
  },
  {
   "cell_type": "code",
   "execution_count": null,
   "metadata": {},
   "outputs": [
    {
     "name": "stdout",
     "output_type": "stream",
     "text": [
      "Greninja!\n",
      "216\n"
     ]
    }
   ],
   "source": [
    "Greninja.attack(Mr_Mime)"
   ]
  },
  {
   "cell_type": "code",
   "execution_count": null,
   "metadata": {},
   "outputs": [
    {
     "name": "stdout",
     "output_type": "stream",
     "text": [
      "120\n"
     ]
    }
   ],
   "source": [
    "Mr_Mime.heal()"
   ]
  },
  {
   "cell_type": "code",
   "execution_count": null,
   "metadata": {},
   "outputs": [
    {
     "name": "stdout",
     "output_type": "stream",
     "text": [
      "Mr. Mime choose your attack.(R or S or H)h\n",
      "invalid input: h\n"
     ]
    }
   ],
   "source": [
    "Battle(Mr_Mime,Greninja)"
   ]
  },
  {
   "cell_type": "code",
   "execution_count": null,
   "metadata": {},
   "outputs": [],
   "source": []
  },
  {
   "cell_type": "code",
   "execution_count": null,
   "metadata": {},
   "outputs": [],
   "source": []
  }
 ],
 "metadata": {
  "kernelspec": {
   "display_name": "Python 3",
   "language": "python",
   "name": "python3"
  },
  "language_info": {
   "codemirror_mode": {
    "name": "ipython",
    "version": 3
   },
   "file_extension": ".py",
   "mimetype": "text/x-python",
   "name": "python",
   "nbconvert_exporter": "python",
   "pygments_lexer": "ipython3",
   "version": "3.7.1"
  }
 },
 "nbformat": 4,
 "nbformat_minor": 2
}
