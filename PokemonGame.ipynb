{
 "cells": [
  {
   "cell_type": "code",
   "execution_count": 1,
   "metadata": {},
   "outputs": [],
   "source": [
    "import os\n",
    "import pandas as pd"
   ]
  },
  {
   "cell_type": "code",
   "execution_count": 27,
   "metadata": {},
   "outputs": [],
   "source": [
    "class Pokemon:\n",
    "    \"\"\"Class variables\"\"\"\n",
    "    \n",
    "    # (1) Make this filepath relative\n",
    "    filepath = os.getcwd()+\"/Pokemon.csv\"\n",
    "    pokemon_df = pd.read_csv(filepath)\n",
    "    \n",
    "    # (5) Make a dataset for evolution chain\n",
    "    # evolution df = ...\n",
    "\n",
    "    def __init__(self, name):\n",
    "        \"\"\"Constructor.\"\"\"\n",
    "        \n",
    "        # Name of the Pokemon.\n",
    "        self.name = name \n",
    "        \n",
    "        df = Pokemon.pokemon_df\n",
    "        \n",
    "        #level and exp\n",
    "        self.level = 1\n",
    "        self.exp = 0\n",
    "        \n",
    "        # Find base HP from dataset \n",
    "        hit_pts = df[df[\"Name\"].str.lower()==self.name.lower()][\"HP\"].values[0]\n",
    "        self.hp = hit_pts\n",
    "        \n",
    "        # Find base Type1 from dataset \n",
    "        typ1 = df[df[\"Name\"].str.lower()==self.name.lower()][\"Type 1\"].values[0]\n",
    "        self.type_1 = typ1\n",
    "\n",
    "        # Find base Type2 from dataset \n",
    "        typ2 = df[df[\"Name\"].str.lower()==self.name.lower()][\"Type 2\"].values[0]\n",
    "        self.type_2 = [\"None\",typ2][typ2=='nan']\n",
    "        \n",
    "        # Find 'Attack' from dataset \n",
    "        attack = df[df[\"Name\"].str.lower()==self.name.lower()][\"Attack\"].values[0]\n",
    "        self.attack_val = attack\n",
    "        # Find 'Special Attack' from dataset \n",
    "        special_attack =  df[df[\"Name\"].str.lower()==self.name.lower()][\"Sp. Atk\"].values[0]\n",
    "        self.special_attack_val = special_attack    \n",
    "    # (3) Methods to increase/decrease HP \n",
    "        self.max_hp = self.hp\n",
    "    def increase_hp(self, amount):\n",
    "        self.hp += amount\n",
    "        \n",
    "    def decrease_hp(self, target, amount):\n",
    "        # Handle less than 0 case.\n",
    "        target.hp -= amount\n",
    "        if target.hp < 0:\n",
    "            target.hp = 0\n",
    "            print(str(target.name) + \" has fainted!\")\n",
    "            self.exp += target.exp\n",
    "            target.exp = 0\n",
    "            \n",
    "        #level up function\n",
    "        if self.exp >= 100:\n",
    "            self.exp -= 100\n",
    "            self.level += 1\n",
    "            self.attack_val += 10\n",
    "            self.special_attack_val += 10\n",
    "            self.max_hp += 10\n",
    "            \n",
    "        \n",
    "    #def scream_name(self):\n",
    "        # make a separate directory with some picture of pokemon so they appear when they attack\n",
    "        \n",
    "    # (4) Complete this \n",
    "    def attack(self,target):\n",
    "        if target.hp <= 0:\n",
    "                print(\"Your target is already dead. You cannot attack.\")\n",
    "        if self.hp <= 0:\n",
    "                print(\"Your Pokemon is already dead. You cannot attack.\")\n",
    "        if self.hp > 0 and target.hp > 0:\n",
    "            print (str(self.name) + \"!\")\n",
    "            self.decrease_hp(target,self.attack_val)\n",
    "        \n",
    "    def special_attack(self,target):\n",
    "        if target.hp <= 0:\n",
    "                print(\"Your target is already dead. You cannot attack.\")\n",
    "        if self.hp <= 0:\n",
    "                print(\"Your Pokemon is already dead. You cannot attack.\")\n",
    "        if self.hp > 0 and target.hp > 0:\n",
    "            print (str(self.name) + \"!!!\")\n",
    "            self.decrease_hp(target,self.special_attack_val)\n",
    "            \n",
    "    def heal(self):\n",
    "        self.hp = self.max_hp\n",
    "        print(str(self.hp))\n",
    "        "
   ]
  },
  {
   "cell_type": "code",
   "execution_count": 28,
   "metadata": {},
   "outputs": [],
   "source": [
    "Greninja = Pokemon(\"Greninja\")"
   ]
  },
  {
   "cell_type": "code",
   "execution_count": 29,
   "metadata": {},
   "outputs": [
    {
     "data": {
      "text/plain": [
       "95"
      ]
     },
     "execution_count": 29,
     "metadata": {},
     "output_type": "execute_result"
    }
   ],
   "source": [
    "Greninja.attack_val"
   ]
  },
  {
   "cell_type": "code",
   "execution_count": 30,
   "metadata": {},
   "outputs": [],
   "source": [
    "Mr_Mime = Pokemon(\"Mr. Mime\")"
   ]
  },
  {
   "cell_type": "code",
   "execution_count": 31,
   "metadata": {},
   "outputs": [
    {
     "data": {
      "text/plain": [
       "45"
      ]
     },
     "execution_count": 31,
     "metadata": {},
     "output_type": "execute_result"
    }
   ],
   "source": [
    "Mr_Mime.attack_val"
   ]
  },
  {
   "cell_type": "code",
   "execution_count": 32,
   "metadata": {},
   "outputs": [
    {
     "name": "stdout",
     "output_type": "stream",
     "text": [
      "Greninja!\n",
      "Mr. Mime has fainted!\n"
     ]
    }
   ],
   "source": [
    "Greninja.attack(Mr_Mime)"
   ]
  },
  {
   "cell_type": "code",
   "execution_count": 33,
   "metadata": {},
   "outputs": [
    {
     "name": "stdout",
     "output_type": "stream",
     "text": [
      "40\n"
     ]
    }
   ],
   "source": [
    "Mr_Mime.heal()"
   ]
  },
  {
   "cell_type": "code",
   "execution_count": null,
   "metadata": {},
   "outputs": [],
   "source": []
  }
 ],
 "metadata": {
  "kernelspec": {
   "display_name": "Python 3",
   "language": "python",
   "name": "python3"
  },
  "language_info": {
   "codemirror_mode": {
    "name": "ipython",
    "version": 3
   },
   "file_extension": ".py",
   "mimetype": "text/x-python",
   "name": "python",
   "nbconvert_exporter": "python",
   "pygments_lexer": "ipython3",
   "version": "3.7.1"
  }
 },
 "nbformat": 4,
 "nbformat_minor": 2
}
