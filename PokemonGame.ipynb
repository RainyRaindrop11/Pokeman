{
 "cells": [
  {
   "cell_type": "code",
   "execution_count": 1,
   "metadata": {
    "collapsed": true
   },
   "outputs": [],
   "source": [
    "import pandas as pd"
   ]
  },
  {
   "cell_type": "code",
   "execution_count": 89,
   "metadata": {
    "collapsed": false
   },
   "outputs": [],
   "source": [
    "class Pokemon:\n",
    "    \"\"\"Class variables\"\"\"\n",
    "    filepath = '/Users/Eric/Desktop/PM/Pokemon.csv'\n",
    "    pokemon_df = pd.read_csv(filepath)\n",
    "\n",
    "    def __init__(self, name):\n",
    "        \"\"\"Constructor.\"\"\"\n",
    "        self.name = name            # Name of the Pokemon.\n",
    "        \n",
    "        df = Pokemon.pokemon_df\n",
    "        hit_points = df[df[\"Name\"]==self.name.title()][\"HP\"].values[0]\n",
    "        self.hp_stat = hit_points\n",
    "        type1 = df[df[\"Name\"]==self.name.title()][\"Type 1\"].values[0]\n",
    "        self.type1 = type1\n",
    "        type2 = df[df[\"Name\"]==self.name.title()][\"Type 2\"].values[0]\n",
    "        type2 = [type2,'none'][type2=='nan']\n",
    "        \n",
    "        self.type2 = type2\n",
    "        attack = df[df[\"Name\"]==self.name.title()][\"Attack\"].values[0]\n",
    "        self.attack_stat = attack\n",
    "        \n",
    "    def attack(self,target):\n",
    "        target.hp_stat -= self.attack_stat\n",
    "        if target.hp_stat <= 0:\n",
    "            print(str(target.name) + \" has fainted\")"
   ]
  },
  {
   "cell_type": "code",
   "execution_count": 90,
   "metadata": {
    "collapsed": false
   },
   "outputs": [],
   "source": [
    "Pidgeot = Pokemon(\"Pidgeot\")\n",
    "Kakuna_Matata = Pokemon(\"Kakuna\")"
   ]
  },
  {
   "cell_type": "code",
   "execution_count": 91,
   "metadata": {
    "collapsed": false
   },
   "outputs": [
    {
     "name": "stdout",
     "output_type": "stream",
     "text": [
      "Pidgeot's attack:  83\n",
      "Kakuna Matata's attack:  45\n"
     ]
    }
   ],
   "source": [
    "print \"Pidgeot's attack: \",Pidgeot.hp_stat\n",
    "print \"Kakuna Matata's attack: \",Kakuna_Matata.hp_stat"
   ]
  },
  {
   "cell_type": "code",
   "execution_count": 92,
   "metadata": {
    "collapsed": false
   },
   "outputs": [
    {
     "name": "stdout",
     "output_type": "stream",
     "text": [
      "Kakuna has fainted\n"
     ]
    }
   ],
   "source": [
    "Pidgeot.attack(Kakuna_Matata)"
   ]
  },
  {
   "cell_type": "code",
   "execution_count": 93,
   "metadata": {
    "collapsed": false
   },
   "outputs": [
    {
     "data": {
      "text/plain": [
       "-35"
      ]
     },
     "execution_count": 93,
     "metadata": {},
     "output_type": "execute_result"
    }
   ],
   "source": [
    "Kakuna_Matata.hp_stat"
   ]
  },
  {
   "cell_type": "code",
   "execution_count": null,
   "metadata": {
    "collapsed": true
   },
   "outputs": [],
   "source": []
  }
 ],
 "metadata": {
  "kernelspec": {
   "display_name": "Python 2",
   "language": "python",
   "name": "python2"
  },
  "language_info": {
   "codemirror_mode": {
    "name": "ipython",
    "version": 2
   },
   "file_extension": ".py",
   "mimetype": "text/x-python",
   "name": "python",
   "nbconvert_exporter": "python",
   "pygments_lexer": "ipython2",
   "version": "2.7.15"
  }
 },
 "nbformat": 4,
 "nbformat_minor": 2
}
